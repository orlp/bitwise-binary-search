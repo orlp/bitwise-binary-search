{
 "cells": [
  {
   "cell_type": "code",
   "execution_count": null,
   "id": "0462961e-8c5a-4c33-8101-69225f60bd9f",
   "metadata": {},
   "outputs": [],
   "source": [
    "%config InlineBackend.figure_format = 'svg'\n",
    "\n",
    "import matplotlib.pyplot as plt\n",
    "import pandas as pd"
   ]
  },
  {
   "cell_type": "code",
   "execution_count": null,
   "id": "6af42d42-fa68-4f98-ada6-1d337f75182e",
   "metadata": {},
   "outputs": [],
   "source": [
    "speed = pd.read_csv(\"speed.csv\", header=0)\n",
    "speed_str = pd.read_csv(\"speed-str.csv\", header=0)\n",
    "comp_counts = pd.read_csv(\"comp-counts.csv\", header=0)"
   ]
  },
  {
   "cell_type": "code",
   "execution_count": null,
   "id": "bc08867c-02a2-4872-9789-bc4574c4bc20",
   "metadata": {},
   "outputs": [],
   "source": [
    "algos = [\"lower_bound_\" + a for a in \"skarupke,pad,overlap,opt,std\".split(\",\")]\n",
    "for algo in algos:\n",
    "    data = comp_counts[comp_counts[\"algo\"] == algo]\n",
    "    plt.plot(data[\"n\"], data[\"num_cmp\"], label = algo)\n",
    "\n",
    "plt.legend()\n",
    "plt.ylim(2.5, 9.5)\n",
    "plt.xlabel(\"n\")\n",
    "plt.ylabel(\"Average # comparisons\")\n",
    "plt.tight_layout()\n",
    "plt.savefig(\"comparisons.svg\", bbox_inches='tight', pad_inches=0.05)\n",
    "plt.show()"
   ]
  },
  {
   "cell_type": "code",
   "execution_count": null,
   "id": "3ac496d5-6bfb-4720-a290-7d4a89ab53b6",
   "metadata": {},
   "outputs": [],
   "source": [
    "algos = [\"lower_bound_\" + a for a in \"skarupke,pad,overlap,opt,std\".split(\",\")]\n",
    "\n",
    "std = comp_counts[comp_counts[\"algo\"] == \"lower_bound_std\"][\"num_cmp\"].mean()\n",
    "for algo in algos:\n",
    "    data = comp_counts[comp_counts[\"algo\"] == algo]\n",
    "    print(algo, data[\"num_cmp\"].mean() - std)"
   ]
  },
  {
   "cell_type": "code",
   "execution_count": null,
   "id": "9740fc78-5e00-4df4-80c9-45860bc25ed0",
   "metadata": {},
   "outputs": [],
   "source": [
    "algos = [a for a in \"skarupke,pad,overlap,opt,std\".split(\",\")]\n",
    "for algo in algos:\n",
    "    data = speed[speed[\"algo\"] == \"lower_bound_\" + algo]\n",
    "    data = data[data[\"n\"] <= 256]\n",
    "    plt.plot(data[\"n\"], data[\"nanosec\"], label = algo)\n",
    "\n",
    "plt.legend(loc=\"upper left\")\n",
    "plt.xlabel(\"n\")\n",
    "plt.ylabel(\"Nanoseconds\")\n",
    "plt.tight_layout()\n",
    "plt.savefig(\"runtime.svg\", bbox_inches='tight', pad_inches=0.05)\n",
    "plt.show()"
   ]
  },
  {
   "cell_type": "code",
   "execution_count": null,
   "id": "ce1f612f-460a-4eaa-9da9-1dfea4e29159",
   "metadata": {},
   "outputs": [],
   "source": [
    "algos = [a for a in \"skarupke,pad,overlap,opt,std\".split(\",\")]\n",
    "for algo in algos:\n",
    "    data = speed[speed[\"algo\"] == \"lower_bound_\" + algo]\n",
    "    data = data[data[\"n\"] >= 3]\n",
    "    plt.plot(data[\"n\"], data[\"nanosec\"], label = algo)\n",
    "\n",
    "plt.legend(loc=\"upper left\")\n",
    "plt.xlabel(\"n\")\n",
    "plt.ylabel(\"Nanoseconds\")\n",
    "plt.xscale(\"log\", base=2)\n",
    "plt.tight_layout()\n",
    "plt.savefig(\"runtime-large.svg\", bbox_inches='tight', pad_inches=0.05)\n",
    "plt.show()"
   ]
  },
  {
   "cell_type": "code",
   "execution_count": null,
   "id": "a6384e9e-abc5-4aac-9f47-de1c144b0b67",
   "metadata": {},
   "outputs": [],
   "source": [
    "algos = [a for a in \"linear,skarupke,pad,overlap,opt,std\".split(\",\")]\n",
    "for algo in algos:\n",
    "    data = speed[speed[\"algo\"] == \"lower_bound_\" + algo]\n",
    "    data = data[data[\"n\"] <= 32]\n",
    "    plt.plot(data[\"n\"], data[\"nanosec\"], label = algo)\n",
    "\n",
    "plt.legend(loc=\"upper left\")\n",
    "plt.xlabel(\"n\")\n",
    "plt.ylabel(\"Nanoseconds\")\n",
    "plt.tight_layout()\n",
    "plt.savefig(\"runtime-small.svg\", bbox_inches='tight', pad_inches=0.05)\n",
    "plt.show()"
   ]
  },
  {
   "cell_type": "code",
   "execution_count": null,
   "id": "195d0264-9c31-4b93-81b9-f3599c50a921",
   "metadata": {},
   "outputs": [],
   "source": [
    "algos = [a for a in \"skarupke,pad,overlap,opt,std\".split(\",\")]\n",
    "for algo in algos:\n",
    "    data = speed_str[speed_str[\"algo\"] == \"lower_bound_\" + algo]\n",
    "    data = data[data[\"n\"] <= 256]\n",
    "    plt.plot(data[\"n\"], data[\"nanosec\"], label = algo)\n",
    "\n",
    "plt.legend(loc=\"upper left\")\n",
    "plt.ylim(20, 75)\n",
    "plt.xlabel(\"n\")\n",
    "plt.ylabel(\"Nanoseconds\")\n",
    "plt.tight_layout()\n",
    "plt.savefig(\"runtime-str.svg\", bbox_inches='tight', pad_inches=0.05)\n",
    "plt.show()"
   ]
  },
  {
   "cell_type": "code",
   "execution_count": null,
   "id": "192eeafa-4038-4960-b165-ab37c0d2b980",
   "metadata": {},
   "outputs": [],
   "source": [
    "algos = [a for a in \"skarupke,pad,overlap,opt,std\".split(\",\")]\n",
    "for algo in algos:\n",
    "    data = speed_str[speed_str[\"algo\"] == \"lower_bound_\" + algo]\n",
    "    data = data[data[\"n\"] >= 3]\n",
    "    plt.plot(data[\"n\"], data[\"nanosec\"], label = algo)\n",
    "\n",
    "plt.legend(loc=\"upper left\")\n",
    "plt.xlabel(\"n\")\n",
    "plt.ylabel(\"Nanoseconds\")\n",
    "plt.ylim(0, 300)\n",
    "plt.xscale(\"log\", base=2)\n",
    "plt.tight_layout()\n",
    "plt.savefig(\"runtime-str-large.svg\", bbox_inches='tight', pad_inches=0.05)\n",
    "plt.show()"
   ]
  },
  {
   "cell_type": "code",
   "execution_count": null,
   "id": "f1615e67-7351-4c86-abc5-0e1a4e1422a0",
   "metadata": {},
   "outputs": [],
   "source": [
    "algos = [a for a in \"linear,skarupke,pad,overlap,opt,std\".split(\",\")]\n",
    "for algo in algos:\n",
    "    data = speed_str[speed_str[\"algo\"] == \"lower_bound_\" + algo]\n",
    "    data = data[data[\"n\"] <= 32]\n",
    "    plt.plot(data[\"n\"], data[\"nanosec\"], label = algo)\n",
    "\n",
    "plt.legend(loc=\"upper left\")\n",
    "plt.xlabel(\"n\")\n",
    "plt.ylabel(\"Nanoseconds\")\n",
    "plt.tight_layout()\n",
    "plt.savefig(\"runtime-str-small.svg\", bbox_inches='tight', pad_inches=0.05)\n",
    "plt.show()"
   ]
  },
  {
   "cell_type": "code",
   "execution_count": null,
   "id": "fea4afce-0fab-4751-82a3-16ac15d65a39",
   "metadata": {},
   "outputs": [],
   "source": []
  }
 ],
 "metadata": {
  "kernelspec": {
   "display_name": "Python 3 (ipykernel)",
   "language": "python",
   "name": "python3"
  },
  "language_info": {
   "codemirror_mode": {
    "name": "ipython",
    "version": 3
   },
   "file_extension": ".py",
   "mimetype": "text/x-python",
   "name": "python",
   "nbconvert_exporter": "python",
   "pygments_lexer": "ipython3",
   "version": "3.10.2"
  }
 },
 "nbformat": 4,
 "nbformat_minor": 5
}
